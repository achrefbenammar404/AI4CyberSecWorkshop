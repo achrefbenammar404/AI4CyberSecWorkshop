{
 "cells": [
  {
   "cell_type": "markdown",
   "metadata": {},
   "source": [
    "# Decision Trees for Malware Detection\n",
    "\n",
    "## 1. Introduction\n",
    "\n",
    "### What is a Decision Tree?\n",
    "\n",
    "\n",
    "A **decision tree** is a supervised machine learning algorithm used for both **classification** and **regression** tasks. The idea is to partition the data into subsets by making decisions based on feature values. Each internal node of the tree corresponds to a decision on a feature, and each leaf node corresponds to a predicted class (for classification) or a value (for regression).\n",
    "\n",
    "**Why use a Decision Tree?**\n",
    "\n",
    "- **Interpretability**: It provides a visual and easy-to-understand representation of the decision-making process.\n",
    "- **Feature Importance**: It helps identify which features are more important in predicting the target variable.\n",
    "- **Non-parametric**: Unlike many other machine learning algorithms, decision trees don't assume any underlying data distribution.\n",
    "\n",
    "In this notebook, we will use a decision tree to classify whether a given file is malicious based on the features provided in the dataset.\n",
    "<center>\n",
    "  <img src=\"https://www.researchgate.net/publication/276126027/figure/fig1/AS:639215637381121@1529412292299/An-example-of-Decision-Tree-with-4-nodes-3-features-and-3-classes-The-colored-dotted.png\" alt=\"Image Description\" />\n",
    "</center>\n",
    "\n",
    "\n",
    "## 2. How a Decision Tree Works\n",
    "\n",
    "\n",
    "A decision tree algorithm works by recursively partitioning the dataset into two or more homogeneous sets. The goal is to find the best possible split at each node of the tree to separate the classes as much as possible.\n",
    "\n",
    "### 2.1 Gini Impurity\n",
    "\n",
    "One of the common ways to evaluate the quality of a split is by calculating the **Gini impurity**. Gini impurity measures how often a randomly chosen element from the set would be incorrectly labeled if it were randomly labeled according to the distribution of labels in the subset.\n",
    "\n",
    "Mathematically, Gini impurity for a set $ S $ is calculated as:\n",
    "\n",
    "$\n",
    "G(S) = 1 - \\sum_{i=1}^{C} p_i^2\n",
    "$\n",
    "\n",
    "where $ C $ is the number of classes, and $ p_i $ is the proportion of class $ i $ in the set $ S $.\n",
    "\n",
    "**If all elements belong to a single class, Gini impurity is 0 (pure). The closer the value is to 1, the less pure the set.**\n",
    "<center>\n",
    "  <img src=\"https://miro.medium.com/v2/resize:fit:1128/1*TjcEyYWh51cBaAo5M0fkEQ.png\" alt=\"Image Description\" />\n",
    "</center>\n",
    "\n",
    "#### Example: Gini Impurity with Balls in a Container\n",
    "\n",
    "Let's illustrate Gini impurity with a simple example. Imagine a container filled with different colored balls. The colors represent the different classes.\n",
    "\n",
    "- **Scenario 1**: The container has 100 balls, all of which are red (belonging to the same class). \n",
    "  - Gini impurity here would be 0 because there is no uncertainty about the class of any randomly selected ball.\n",
    "\n",
    "- **Scenario 2**: The container has 10 red balls and 90 blue balls (two classes). \n",
    "  - Gini impurity would be higher in this case, as there is a 50% chance of drawing a red ball and a 50% chance of drawing a blue ball, which increases the uncertainty.\n",
    "\n",
    "Let’s calculate the Gini impurity for these two scenarios:\n",
    "\n",
    "1. **Scenario 1 (All Red Balls)**:  \n",
    "   Since there is only one class (red), $ p_{red} = 1 $ and $ p_{blue} = 0 $.\n",
    "\n",
    "   $\n",
    "   G = 1 - (1^2) = 0\n",
    "   $\n",
    "\n",
    "2. **Scenario 2 (5 Red Balls, 5 Blue Balls)**:  \n",
    "   Here, $ p_{red} = 0.5 $ and $ p_{blue} = 0.5 $.\n",
    "\n",
    "   $\n",
    "   G = 1 - (0.1^2 + 0.9^2) = 1 - 0.5 = 0.18\n",
    "   $\n",
    "\n",
    "In this example, the Gini impurity in the second scenario is higher than in the first because there is more diversity in the classes.\n",
    "<center>\n",
    "  <img src=\"data/containers.webp\" alt=\"Image Description\" , width = \"400\"/>\n",
    "</center>\n",
    "Now, let’s implement this concept in our decision tree.\n"
   ]
  },
  {
   "cell_type": "code",
   "execution_count": 27,
   "metadata": {},
   "outputs": [
    {
     "name": "stdout",
     "output_type": "stream",
     "text": [
      "\n",
      "\u001b[1m[\u001b[0m\u001b[34;49mnotice\u001b[0m\u001b[1;39;49m]\u001b[0m\u001b[39;49m A new release of pip is available: \u001b[0m\u001b[31;49m23.2.1\u001b[0m\u001b[39;49m -> \u001b[0m\u001b[32;49m24.2\u001b[0m\n",
      "\u001b[1m[\u001b[0m\u001b[34;49mnotice\u001b[0m\u001b[1;39;49m]\u001b[0m\u001b[39;49m To update, run: \u001b[0m\u001b[32;49mpip install --upgrade pip\u001b[0m\n"
     ]
    }
   ],
   "source": [
    "! pip install networkx --quiet \n"
   ]
  },
  {
   "cell_type": "code",
   "execution_count": 28,
   "metadata": {},
   "outputs": [
    {
     "data": {
      "text/html": [
       "<div>\n",
       "<style scoped>\n",
       "    .dataframe tbody tr th:only-of-type {\n",
       "        vertical-align: middle;\n",
       "    }\n",
       "\n",
       "    .dataframe tbody tr th {\n",
       "        vertical-align: top;\n",
       "    }\n",
       "\n",
       "    .dataframe thead th {\n",
       "        text-align: right;\n",
       "    }\n",
       "</style>\n",
       "<table border=\"1\" class=\"dataframe\">\n",
       "  <thead>\n",
       "    <tr style=\"text-align: right;\">\n",
       "      <th></th>\n",
       "      <th>Unnamed: 0</th>\n",
       "      <th>packets</th>\n",
       "      <th>data_size</th>\n",
       "      <th>duration</th>\n",
       "      <th>protocol_type</th>\n",
       "      <th>src_ip_entropy</th>\n",
       "      <th>dst_ip_entropy</th>\n",
       "      <th>src_port</th>\n",
       "      <th>dst_port</th>\n",
       "      <th>is_malicious</th>\n",
       "    </tr>\n",
       "  </thead>\n",
       "  <tbody>\n",
       "    <tr>\n",
       "      <th>0</th>\n",
       "      <td>0</td>\n",
       "      <td>549</td>\n",
       "      <td>23925</td>\n",
       "      <td>46.636386</td>\n",
       "      <td>0</td>\n",
       "      <td>0.562393</td>\n",
       "      <td>0.542418</td>\n",
       "      <td>25035</td>\n",
       "      <td>33550</td>\n",
       "      <td>0</td>\n",
       "    </tr>\n",
       "    <tr>\n",
       "      <th>1</th>\n",
       "      <td>1</td>\n",
       "      <td>486</td>\n",
       "      <td>11111</td>\n",
       "      <td>46.837479</td>\n",
       "      <td>2</td>\n",
       "      <td>0.409978</td>\n",
       "      <td>0.580064</td>\n",
       "      <td>62894</td>\n",
       "      <td>19715</td>\n",
       "      <td>0</td>\n",
       "    </tr>\n",
       "    <tr>\n",
       "      <th>2</th>\n",
       "      <td>2</td>\n",
       "      <td>564</td>\n",
       "      <td>23573</td>\n",
       "      <td>83.531412</td>\n",
       "      <td>1</td>\n",
       "      <td>0.448570</td>\n",
       "      <td>0.471148</td>\n",
       "      <td>42483</td>\n",
       "      <td>50710</td>\n",
       "      <td>0</td>\n",
       "    </tr>\n",
       "    <tr>\n",
       "      <th>3</th>\n",
       "      <td>3</td>\n",
       "      <td>652</td>\n",
       "      <td>18831</td>\n",
       "      <td>62.139664</td>\n",
       "      <td>0</td>\n",
       "      <td>0.554119</td>\n",
       "      <td>0.514444</td>\n",
       "      <td>13085</td>\n",
       "      <td>15047</td>\n",
       "      <td>0</td>\n",
       "    </tr>\n",
       "    <tr>\n",
       "      <th>4</th>\n",
       "      <td>4</td>\n",
       "      <td>476</td>\n",
       "      <td>23537</td>\n",
       "      <td>87.209764</td>\n",
       "      <td>1</td>\n",
       "      <td>0.475231</td>\n",
       "      <td>0.553307</td>\n",
       "      <td>56395</td>\n",
       "      <td>42063</td>\n",
       "      <td>0</td>\n",
       "    </tr>\n",
       "  </tbody>\n",
       "</table>\n",
       "</div>"
      ],
      "text/plain": [
       "   Unnamed: 0  packets  data_size   duration  protocol_type  src_ip_entropy  \\\n",
       "0           0      549      23925  46.636386              0        0.562393   \n",
       "1           1      486      11111  46.837479              2        0.409978   \n",
       "2           2      564      23573  83.531412              1        0.448570   \n",
       "3           3      652      18831  62.139664              0        0.554119   \n",
       "4           4      476      23537  87.209764              1        0.475231   \n",
       "\n",
       "   dst_ip_entropy  src_port  dst_port  is_malicious  \n",
       "0        0.542418     25035     33550             0  \n",
       "1        0.580064     62894     19715             0  \n",
       "2        0.471148     42483     50710             0  \n",
       "3        0.514444     13085     15047             0  \n",
       "4        0.553307     56395     42063             0  "
      ]
     },
     "execution_count": 28,
     "metadata": {},
     "output_type": "execute_result"
    }
   ],
   "source": [
    "# Step 1: Load the dataset\n",
    "\n",
    "import pandas as pd\n",
    "import numpy as np\n",
    "import os\n",
    "\n",
    "# Load the dataset from a CSV file\n",
    "path = os.path.join(\"data\", \"malware_detection_dataset.csv\")\n",
    "df = pd.read_csv(path, index_col=False)\n",
    "\n",
    "# Display the first few rows of the dataset\n",
    "df.head()\n"
   ]
  },
  {
   "cell_type": "markdown",
   "metadata": {},
   "source": [
    "### Step 2: Gini Impurity Calculation\n",
    "\n",
    "The Gini impurity is used to evaluate the quality of a split at each node. Let's implement the function to calculate the Gini impurity.\n"
   ]
  },
  {
   "cell_type": "code",
   "execution_count": 29,
   "metadata": {},
   "outputs": [
    {
     "name": "stdout",
     "output_type": "stream",
     "text": [
      "Gini Impurity for example split: 0.4800\n"
     ]
    }
   ],
   "source": [
    "# Gini impurity function\n",
    "def gini_impurity(classes):\n",
    "    total = np.sum(classes)\n",
    "    if total == 0:\n",
    "        return 0  # If no samples, return 0 impurity\n",
    "    probs = np.array(classes) / total\n",
    "    return 1 - np.sum(probs ** 2)\n",
    "\n",
    "# Example calculation\n",
    "example_classes = [40, 60]  # 40 samples of class 0, 60 samples of class 1\n",
    "print(f\"Gini Impurity for example split: {gini_impurity(example_classes):.4f}\")\n"
   ]
  },
  {
   "cell_type": "markdown",
   "metadata": {},
   "source": [
    "### Step 3: Splitting Data\n",
    "\n",
    "At each node, we need to split the dataset based on a chosen feature and threshold. Below is the function that splits the dataset into two parts based on the feature and threshold.\n"
   ]
  },
  {
   "cell_type": "code",
   "execution_count": 30,
   "metadata": {},
   "outputs": [
    {
     "name": "stdout",
     "output_type": "stream",
     "text": [
      "Left split: [[2, 1], [3, 0], [4, 1]]\n",
      "Right split: [[5, 0], [6, 1]]\n"
     ]
    }
   ],
   "source": [
    "# Function to split the dataset based on a feature and value\n",
    "def split_data(data, feature, value):\n",
    "    data = np.array(data)\n",
    "    left = data[data[:, feature] <= value]\n",
    "    right = data[data[:, feature] > value]\n",
    "    return left.tolist(), right.tolist()\n",
    "\n",
    "# Example of splitting the dataset\n",
    "example_data = [[2, 1], [3, 0], [4, 1], [5, 0], [6, 1]]\n",
    "left, right = split_data(example_data, 0, 4)\n",
    "print(f\"Left split: {left}\")\n",
    "print(f\"Right split: {right}\")\n"
   ]
  },
  {
   "cell_type": "markdown",
   "metadata": {},
   "source": [
    "### Step 4: Calculating Gini Impurity for a Split\n",
    "\n",
    "To evaluate the quality of a split, we need to compute the Gini impurity of both the left and right subsets and then take the weighted average.\n"
   ]
  },
  {
   "cell_type": "code",
   "execution_count": 31,
   "metadata": {},
   "outputs": [
    {
     "name": "stdout",
     "output_type": "stream",
     "text": [
      "Gini Impurity of the split: 0.1667\n"
     ]
    }
   ],
   "source": [
    "# Function to calculate Gini for a split\n",
    "def calculate_split_gini(left, right):\n",
    "    n = len(left) + len(right)\n",
    "    if n == 0:\n",
    "        return 0  # Avoid division by zero\n",
    "    \n",
    "    if len(left) == 0:\n",
    "        gini_left = 0\n",
    "    else:\n",
    "        gini_left = gini_impurity([row[-1] for row in left])\n",
    "    \n",
    "    if len(right) == 0:\n",
    "        gini_right = 0\n",
    "    else:\n",
    "        gini_right = gini_impurity([row[-1] for row in right])\n",
    "    \n",
    "    # Weighted average of Gini impurities\n",
    "    return (len(left) / n) * gini_left + (len(right) / n) * gini_right\n",
    "data = [\n",
    "    [2.3, 1],  # Feature value, Label\n",
    "    [1.8, 0],\n",
    "    [3.1, 1],\n",
    "    [2.5, 0],\n",
    "    [3.7, 1],\n",
    "    [1.6, 0]\n",
    "]\n",
    "left, right = split_data(data, feature=0, value=2.5)\n",
    "gini = calculate_split_gini(left, right)\n",
    "print(f\"Gini Impurity of the split: {gini:.4f}\")\n"
   ]
  },
  {
   "cell_type": "markdown",
   "metadata": {},
   "source": [
    "### Step 5: Finding the Best Split\n",
    "\n",
    "To build the decision tree, we need to find the best feature and threshold at each node that minimizes the Gini impurity.\n"
   ]
  },
  {
   "cell_type": "code",
   "execution_count": 32,
   "metadata": {},
   "outputs": [],
   "source": [
    "import random\n",
    "\n",
    "# Function to find the best split\n",
    "def find_best_split(data, n_samples=20):\n",
    "    best_gini = float('inf')\n",
    "    best_split = None\n",
    "    n_features = len(data[0]) - 1  # Assuming the last column is the label\n",
    "    \n",
    "    for feature in range(n_features):\n",
    "        feature_values = [row[feature] for row in data]\n",
    "        \n",
    "        # Randomly sample `n_samples` values from the feature's unique values\n",
    "        values = random.sample(list(set(feature_values)), min(len(set(feature_values)), n_samples))\n",
    "        \n",
    "        for value in values:\n",
    "            left, right = split_data(data, feature, value)\n",
    "            gini = calculate_split_gini(left, right)\n",
    "            \n",
    "            if gini < best_gini:\n",
    "                best_gini = gini\n",
    "                best_split = (feature, value)\n",
    "    \n",
    "    return best_split\n"
   ]
  },
  {
   "cell_type": "markdown",
   "metadata": {},
   "source": [
    "### Step 6: Building the Tree\n",
    "\n",
    "We can now build the tree recursively. At each node, the function will find the best split, and then recursively build the left and right subtrees.\n"
   ]
  },
  {
   "cell_type": "code",
   "execution_count": 33,
   "metadata": {},
   "outputs": [],
   "source": [
    "# Function to check if a node is pure (all samples have the same class)\n",
    "def is_pure(data):\n",
    "    classes = [row[-1] for row in data]\n",
    "    return len(set(classes)) == 1\n",
    "\n",
    "# Function to create a leaf node (return the majority class)\n",
    "def leaf_node(data):\n",
    "    classes = [row[-1] for row in data]\n",
    "    return max(set(classes), key=classes.count)\n",
    "\n",
    "# Recursive function to build the decision tree\n",
    "def build_tree(data, max_depth, min_samples_split=2, depth=0):\n",
    "    # Stop if max depth is reached, the node is pure, or there's not enough data to split\n",
    "    if depth == max_depth or is_pure(data) or len(data) < min_samples_split:\n",
    "        return leaf_node(data)\n",
    "    \n",
    "    # Find the best split\n",
    "    feature, value = find_best_split(data)\n",
    "    \n",
    "    # Split the data\n",
    "    left, right = split_data(data, feature, value)\n",
    "    \n",
    "    # Recursively build the left and right subtrees\n",
    "    return {\n",
    "        'feature': feature,\n",
    "        'value': value,\n",
    "        'left': build_tree(left, max_depth, min_samples_split, depth + 1),\n",
    "        'right': build_tree(right, max_depth, min_samples_split, depth + 1)\n",
    "    }\n"
   ]
  },
  {
   "cell_type": "markdown",
   "metadata": {},
   "source": [
    "### Step 7: Making Predictions\n",
    "\n",
    "Once the tree is built, we can use it to make predictions by traversing the tree from the root to the leaf nodes based on the values of the features.\n"
   ]
  },
  {
   "cell_type": "code",
   "execution_count": 34,
   "metadata": {},
   "outputs": [],
   "source": [
    "# Function to predict for a single sample\n",
    "def predict_one(tree, sample):\n",
    "    if isinstance(tree, dict):\n",
    "        feature = tree['feature']\n",
    "        value = tree['value']\n",
    "        if sample[feature] <= value:\n",
    "            return predict_one(tree['left'], sample)\n",
    "        else:\n",
    "            return predict_one(tree['right'], sample)\n",
    "    else:\n",
    "        return tree\n",
    "\n",
    "# Function to predict for the entire dataset\n",
    "def predict(tree, data):\n",
    "    return [predict_one(tree, sample) for sample in data]\n"
   ]
  },
  {
   "cell_type": "markdown",
   "metadata": {},
   "source": [
    "### Step 8: Building and Evaluating the Model\n",
    "\n",
    "Now, we will prepare the dataset, build the decision tree, and evaluate its accuracy.\n"
   ]
  },
  {
   "cell_type": "code",
   "execution_count": 35,
   "metadata": {},
   "outputs": [
    {
     "name": "stdout",
     "output_type": "stream",
     "text": [
      "Model Accuracy: 99.84%\n"
     ]
    }
   ],
   "source": [
    "# Prepare the dataset by separating features and target labels\n",
    "X = df.drop(columns=['is_malicious', 'Unnamed: 0'])\n",
    "y = df['is_malicious']\n",
    "\n",
    "# Convert the dataframe into a list of lists for manual implementation\n",
    "data = X.values.tolist()\n",
    "labels = y.values.tolist()\n",
    "\n",
    "# Append the labels to the data\n",
    "for i in range(len(data)):\n",
    "    data[i].append(labels[i])\n",
    "\n",
    "# Build the decision tree using a maximum depth of n<10 for simplicity\n",
    "tree = build_tree(data, max_depth=2)\n",
    "\n",
    "# Make predictions using the built tree on the original dataset\n",
    "predictions = predict(tree, X.values.tolist())\n",
    "\n",
    "# Evaluate the accuracy of our model\n",
    "from sklearn.metrics import accuracy_score\n",
    "accuracy = accuracy_score(y, predictions)\n",
    "\n",
    "# Output the accuracy of the model\n",
    "print(f\"Model Accuracy: {accuracy * 100:.2f}%\")\n"
   ]
  },
  {
   "cell_type": "code",
   "execution_count": 36,
   "metadata": {},
   "outputs": [
    {
     "data": {
      "image/png": "[encoded data removed]",
      "text/plain": [
       "<Figure size 2000x1000 with 1 Axes>"
      ]
     },
     "metadata": {},
     "output_type": "display_data"
    }
   ],
   "source": [
    "from sklearn.model_selection import train_test_split\n",
    "from sklearn.tree import DecisionTreeClassifier\n",
    "import matplotlib.pyplot as plt\n",
    "from sklearn import tree\n",
    "\n",
    "# Prepare the dataset by separating features and the target\n",
    "X = df.drop(columns=['Unnamed: 0', 'is_malicious'])\n",
    "y = df['is_malicious']\n",
    "\n",
    "# Split the dataset into training and testing sets\n",
    "X_train, X_test, y_train, y_test = train_test_split(X, y, test_size=0.3, random_state=42)\n",
    "\n",
    "# Create and train the decision tree classifier\n",
    "clf = DecisionTreeClassifier(max_depth=3, random_state=42)\n",
    "clf.fit(X_train, y_train)\n",
    "\n",
    "# Plot the decision tree\n",
    "plt.figure(figsize=(20,10))\n",
    "tree.plot_tree(clf, feature_names=X.columns, class_names=[\"Benign\", \"Malicious\"], filled=True, rounded=True, fontsize=10)\n",
    "plt.show()\n"
   ]
  }
 ],
 "metadata": {
  "kernelspec": {
   "display_name": "venv",
   "language": "python",
   "name": "python3"
  },
  "language_info": {
   "codemirror_mode": {
    "name": "ipython",
    "version": 3
   },
   "file_extension": ".py",
   "mimetype": "text/x-python",
   "name": "python",
   "nbconvert_exporter": "python",
   "pygments_lexer": "ipython3",
   "version": "3.11.5"
  }
 },
 "nbformat": 4,
 "nbformat_minor": 2
}
